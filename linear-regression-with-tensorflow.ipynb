{
 "cells": [
  {
   "cell_type": "code",
   "execution_count": 37,
   "metadata": {
    "collapsed": true
   },
   "outputs": [],
   "source": [
    "import pandas as pd\n",
    "import tensorflow as tf\n",
    "import numpy as np\n",
    "import matplotlib.pyplot as plt"
   ]
  },
  {
   "cell_type": "code",
   "execution_count": 31,
   "metadata": {},
   "outputs": [],
   "source": [
    "X = np.linspace(10, 50)\n",
    "Y = np.linspace(10, 50)"
   ]
  },
  {
   "cell_type": "code",
   "execution_count": 32,
   "metadata": {},
   "outputs": [],
   "source": [
    "X += np.random.uniform(-4,4,50)\n",
    "Y +=np.random.uniform(-4,4,50)"
   ]
  },
  {
   "cell_type": "code",
   "execution_count": 39,
   "metadata": {},
   "outputs": [
    {
     "data": {
      "image/png": "[encoded data removed]",
      "text/plain": [
       "<Figure size 432x288 with 1 Axes>"
      ]
     },
     "metadata": {},
     "output_type": "display_data"
    }
   ],
   "source": [
    "plt.scatter(X,Y)\n",
    "plt.title(\"original data plot\")\n",
    "plt.show()"
   ]
  },
  {
   "cell_type": "code",
   "execution_count": 33,
   "metadata": {
    "collapsed": true
   },
   "outputs": [],
   "source": [
    "x = tf.placeholder(tf.float32)\n",
    "y = tf.placeholder(tf.float32)"
   ]
  },
  {
   "cell_type": "code",
   "execution_count": 41,
   "metadata": {},
   "outputs": [],
   "source": [
    "W = tf.Variable(np.random.randn(), name='W')\n",
    "b = tf.Variable(np.random.randn(), name='b')"
   ]
  },
  {
   "cell_type": "code",
   "execution_count": 42,
   "metadata": {
    "collapsed": true
   },
   "outputs": [],
   "source": [
    "pred = tf.add(tf.multiply(x,W),b)"
   ]
  },
  {
   "cell_type": "code",
   "execution_count": 45,
   "metadata": {},
   "outputs": [],
   "source": [
    "cost = tf.reduce_sum(tf.pow(tf.subtract(y,pred),2)/(2*len(X)))"
   ]
  },
  {
   "cell_type": "code",
   "execution_count": 59,
   "metadata": {
    "collapsed": true
   },
   "outputs": [],
   "source": [
    "optimizer = tf.train.GradientDescentOptimizer(learning_rate=0.01).minimize(cost)"
   ]
  },
  {
   "cell_type": "code",
   "execution_count": 60,
   "metadata": {
    "collapsed": true
   },
   "outputs": [],
   "source": [
    "init = tf.global_variables_initializer()"
   ]
  },
  {
   "cell_type": "code",
   "execution_count": 63,
   "metadata": {
    "collapsed": true
   },
   "outputs": [],
   "source": [
    "training_epoch = 1000"
   ]
  },
  {
   "cell_type": "code",
   "execution_count": 66,
   "metadata": {},
   "outputs": [
    {
     "name": "stdout",
     "output_type": "stream",
     "text": [
      "Epoch 50 : cost = 5.763832 W = 1.0342699 b = -0.10940587\n",
      "Epoch 100 : cost = 5.7659006 W = 1.0341179 b = -0.10209924\n",
      "Epoch 150 : cost = 5.7678847 W = 1.0339731 b = -0.09513663\n",
      "Epoch 200 : cost = 5.76978 W = 1.033835 b = -0.088502206\n",
      "Epoch 250 : cost = 5.771599 W = 1.0337036 b = -0.08218026\n",
      "Epoch 300 : cost = 5.773332 W = 1.0335782 b = -0.07615605\n",
      "Epoch 350 : cost = 5.774996 W = 1.0334587 b = -0.070415705\n",
      "Epoch 400 : cost = 5.776592 W = 1.033345 b = -0.06494569\n",
      "Epoch 450 : cost = 5.7781105 W = 1.0332365 b = -0.05973349\n",
      "Epoch 500 : cost = 5.7795663 W = 1.0331331 b = -0.05476674\n",
      "Epoch 550 : cost = 5.780959 W = 1.0330347 b = -0.05003393\n",
      "Epoch 600 : cost = 5.782291 W = 1.0329409 b = -0.04552407\n",
      "Epoch 650 : cost = 5.783564 W = 1.0328515 b = -0.041226853\n",
      "Epoch 700 : cost = 5.7847757 W = 1.0327662 b = -0.037132002\n",
      "Epoch 750 : cost = 5.78594 W = 1.032685 b = -0.033230003\n",
      "Epoch 800 : cost = 5.7870493 W = 1.0326077 b = -0.029511718\n",
      "Epoch 850 : cost = 5.7881103 W = 1.032534 b = -0.02596872\n",
      "Epoch 900 : cost = 5.7891235 W = 1.0324638 b = -0.022592667\n",
      "Epoch 950 : cost = 5.7900906 W = 1.0323968 b = -0.019375658\n",
      "Epoch 1000 : cost = 5.791012 W = 1.032333 b = -0.016310152\n"
     ]
    }
   ],
   "source": [
    "with tf.Session() as sess:\n",
    "    sess.run(init)\n",
    "    for epochs in range(training_epoch):\n",
    "        for _X,_Y in zip(X,Y):\n",
    "            sess.run(optimizer, feed_dict={x:_X,y:_Y})\n",
    "        if (epochs+1) % 50 ==0:\n",
    "            c = sess.run(cost, feed_dict = {x : X, y : Y}) \n",
    "            print(\"Epoch\", (epochs + 1), \": cost =\", c, \"W =\", sess.run(W), \"b =\", sess.run(b)) \n",
    "# Storing necessary values to be used outside the Session \n",
    "    training_cost = sess.run(cost, feed_dict ={x: X, y: Y}) \n",
    "    weight = sess.run(W) \n",
    "    bias = sess.run(b) "
   ]
  },
  {
   "cell_type": "code",
   "execution_count": 67,
   "metadata": {},
   "outputs": [
    {
     "name": "stdout",
     "output_type": "stream",
     "text": [
      "5.791012\n"
     ]
    }
   ],
   "source": [
    "print(training_cost)"
   ]
  },
  {
   "cell_type": "code",
   "execution_count": 81,
   "metadata": {},
   "outputs": [
    {
     "name": "stdout",
     "output_type": "stream",
     "text": [
      "[13.38917418  8.10761086 13.23090418 16.33239959 10.71208495 11.0016643\n",
      " 14.90160501 13.60407397 18.51254179 17.52397616 16.00314414 19.69981789\n",
      " 16.87733533 23.96629719 20.37717363 22.33876093 25.51479811 25.12718424\n",
      " 23.96054213 30.09830252 24.26210466 26.39061217 28.99188998 30.03416257\n",
      " 33.88800377 34.10880141 33.04460685 30.65096481 30.14385238 36.41399521\n",
      " 32.02920221 39.4953286  34.6800316  34.05182688 38.72249092 37.33107065\n",
      " 43.08299388 44.44530645 44.96777598 46.01664669 41.38235062 41.59613119\n",
      " 48.95116067 42.50610536 45.64107342 52.27615154 52.81365668 48.09601562\n",
      " 52.97979277 47.51363003]\n"
     ]
    }
   ],
   "source": [
    "prediction = weight* X + bias\n",
    "print(prediction)"
   ]
  },
  {
   "cell_type": "code",
   "execution_count": 82,
   "metadata": {},
   "outputs": [
    {
     "name": "stdout",
     "output_type": "stream",
     "text": [
      "Training cost: 5.791012 W Tensor(\"W_1/read:0\", shape=(), dtype=float32) b Tensor(\"b/read:0\", shape=(), dtype=float32)\n"
     ]
    }
   ],
   "source": [
    "print(\"Training cost:\",training_cost,\"W\",W,\"b\",b)"
   ]
  },
  {
   "cell_type": "code",
   "execution_count": 88,
   "metadata": {},
   "outputs": [
    {
     "data": {
      "image/png": "[encoded data removed]",
      "text/plain": [
       "<Figure size 432x288 with 1 Axes>"
      ]
     },
     "metadata": {},
     "output_type": "display_data"
    }
   ],
   "source": [
    "plt.scatter(X,Y,label='original data')\n",
    "plt.scatter(X,prediction, label='prediction')\n",
    "plt.legend()\n",
    "plt.show()"
   ]
  },
  {
   "cell_type": "code",
   "execution_count": null,
   "metadata": {
    "collapsed": true
   },
   "outputs": [],
   "source": []
  }
 ],
 "metadata": {
  "kernelspec": {
   "display_name": "Python 3",
   "language": "python",
   "name": "python3"
  },
  "language_info": {
   "codemirror_mode": {
    "name": "ipython",
    "version": 3
   },
   "file_extension": ".py",
   "mimetype": "text/x-python",
   "name": "python",
   "nbconvert_exporter": "python",
   "pygments_lexer": "ipython3",
   "version": "3.6.8"
  }
 },
 "nbformat": 4,
 "nbformat_minor": 2
}
